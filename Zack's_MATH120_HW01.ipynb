{
  "cells": [
    {
      "cell_type": "markdown",
      "metadata": {
        "id": "view-in-github",
        "colab_type": "text"
      },
      "source": [
        "<a href=\"https://colab.research.google.com/github/Wasian98/MATH120-Intro/blob/main/Zack's_MATH120_HW01.ipynb\" target=\"_parent\"><img src=\"https://colab.research.google.com/assets/colab-badge.svg\" alt=\"Open In Colab\"/></a>"
      ]
    },
    {
      "cell_type": "markdown",
      "metadata": {
        "id": "URrSc8W97wYL"
      },
      "source": [
        "# MATH 120 - Homework 01"
      ]
    },
    {
      "cell_type": "markdown",
      "metadata": {
        "id": "IZJU1UH-7wYN"
      },
      "source": [
        "**Name:** Zacheary Vang\n",
        "\n",
        "**Collaborators:**"
      ]
    },
    {
      "cell_type": "markdown",
      "metadata": {
        "id": "M7Ob55rv7wYN"
      },
      "source": [
        "**Instructions:** Please submit a Google Colab notebook link answering the following parts.\n",
        "\n",
        "This homework is due **Friday, Aug.29 by 11:59PM**\n",
        "\n",
        "* If you collaborate with someone in the class, note the name on the assignment.\n",
        "\n",
        "---"
      ]
    },
    {
      "cell_type": "code",
      "source": [
        "# This cell tells Jupyter to provide detailed debugging information\n",
        "# when a runtime error occurs. Run it before working on the exercises.\n",
        "\n",
        "%xmode Verbose"
      ],
      "metadata": {
        "colab": {
          "base_uri": "https://localhost:8080/"
        },
        "id": "NWV4wUmHAuve",
        "outputId": "c7931c11-6bd8-43dc-84b1-4c9a86132efa"
      },
      "execution_count": null,
      "outputs": [
        {
          "output_type": "stream",
          "name": "stdout",
          "text": [
            "Exception reporting mode: Verbose\n"
          ]
        }
      ]
    },
    {
      "cell_type": "markdown",
      "metadata": {
        "id": "j97vO-Gc7wYO"
      },
      "source": [
        "## 1 - Ask a LLM"
      ]
    },
    {
      "cell_type": "markdown",
      "metadata": {
        "id": "T7hK-U9M7wYO"
      },
      "source": [
        "As you work through the book, there are several ways you can use a virtual assistant ora  chatbot to help you learn.\n",
        "\n",
        "If you want to learn more about a topic in the chapter, or anything is unclear, you can ask for an explanation.\n",
        "\n",
        "In each chapter, there will be exercises you can do with a virtual assistant, but I encourage you to try things on your own and see what works for you.\n",
        "\n",
        "Here are some topics you could ask a virtual assistant about:\n",
        "\n",
        "Earlier I mentioned bitwise operators but I didn’t explain why the value of 7 ^ 2 is 5.\n",
        "\n",
        "Try asking\n",
        "\n",
        "* “What are the bitwise operators in Python?” or\n",
        "* “What is the value of 7 XOR 2?”\n",
        "\n",
        "and then another question related to one topic we covered in lecture.\n",
        "\n",
        "**NOTE:** Most virtual assistants know about Python, so they answer questions like this pretty reliably. But remember that these tools make mistakes.\n",
        "\n",
        "Be sure to write the prompt, the response, and then your response as well.\n",
        "\n"
      ]
    },
    {
      "cell_type": "markdown",
      "source": [
        " What is the value of 7 XOR 2\n",
        "\n",
        " Sure! Here is the code to calculate the value of 7 XOR 2.\n",
        "\n",
        " Prompt: What is the value of 7 XOR 2?\n",
        " Response: The value of 7 XOR 2 is 5.\n",
        " Explanation:\n",
        " In binary, 7 is 0111 and 2 is 0010.\n",
        " When performing XOR (exclusive OR), the result is 1 if the bits are different, and 0 if they are the same.\n",
        " 0111\n",
        " 0010\n",
        " ----\n",
        " 0101  (which is 5 in decimal)\n",
        "\n",
        "print(7 ^ 2)\n",
        "\n",
        "That was helpful\n",
        "\n",
        "can you explain what modulus does?\n",
        "\n",
        "The modulus operator, represented by the % symbol in Python, gives you the remainder of a division.\n",
        "\n",
        "For example, if you calculate 10 % 3, the result is 1 because 10 divided by 3 is 3 with a remainder of 1.\n",
        "\n",
        "\n",
        "thanks for the explanation"
      ],
      "metadata": {
        "id": "IkE8q6BzBlxj"
      }
    },
    {
      "cell_type": "markdown",
      "metadata": {
        "id": "FWVqX5qa7wYP"
      },
      "source": [
        "## 2 - Make Mistakes\n"
      ]
    },
    {
      "cell_type": "markdown",
      "metadata": {
        "id": "SDf1lF4X7wYP"
      },
      "source": [
        "When you learn about a new feature, you should try it out and make mistakes on purpose. That way, you learn the error messages, and when you see them again, you will know what they mean. It is better to make mistakes now and deliberately than later and accidentally.\n",
        "\n",
        "* You can use a minus sign to make a negative number like -2. What happens if you put a plus sign before a number? What about `2++2`?\n",
        "\n",
        "* What happens if you have two values with no operator between them, like `4 2`?\n",
        "\n",
        "* If you call a function like `round(42.5)`, what happens if you leave out one or both parentheses?\n",
        "\n",
        "* Correct the spelling in this question.\n"
      ]
    },
    {
      "cell_type": "code",
      "execution_count": null,
      "metadata": {
        "id": "hk18UFPm7wYP"
      },
      "outputs": [],
      "source": [
        "# +2 this code will run and give back 2\n",
        "# 2++2 this will add up the numbers and give 4\n",
        "# 4 2 this will give an error\n",
        "# round 42.5 this code will not function\n",
        "# the header for this section was spelled incorrectly"
      ]
    },
    {
      "cell_type": "markdown",
      "metadata": {
        "id": "mVMSnFix7wYQ"
      },
      "source": [
        "## 3 - Types\n"
      ]
    },
    {
      "cell_type": "markdown",
      "metadata": {
        "id": "yXAJ0T587wYQ"
      },
      "source": [
        "Recall that every expression has a value, every value has a type, and we can use the type function to find the type of any value.\n",
        "\n",
        "What is the type of the value of the following expressions? Make your best guess for each one, and then use `type` to find out.\n",
        "\n",
        "* `765` int\n",
        "* `2.718` float\n",
        "* `'2 pi'` string\n",
        "* `abs(-7)` int\n",
        "* `abs(-7.0)` float\n",
        "* `abs`int\n",
        "* `int`int\n",
        "* `type`undefined"
      ]
    },
    {
      "cell_type": "code",
      "source": [
        "print(type(765))\n",
        "print(type(2.718))\n",
        "print(type('2 pi'))\n",
        "print(type(abs(-7)))\n",
        "print(type(abs(-7.0)))\n",
        "print(type(abs))\n",
        "print(type(int))\n",
        "print(type(type))"
      ],
      "metadata": {
        "colab": {
          "base_uri": "https://localhost:8080/"
        },
        "id": "nKMejOMEiXJU",
        "outputId": "d3d97f18-caef-4afd-8090-20dffbdb4b12"
      },
      "execution_count": null,
      "outputs": [
        {
          "output_type": "stream",
          "name": "stdout",
          "text": [
            "<class 'int'>\n",
            "<class 'float'>\n",
            "<class 'str'>\n",
            "<class 'int'>\n",
            "<class 'float'>\n",
            "<class 'builtin_function_or_method'>\n",
            "<class 'type'>\n",
            "<class 'type'>\n"
          ]
        }
      ]
    },
    {
      "cell_type": "markdown",
      "source": [
        "## 4 - Arithmetic Expresssions"
      ],
      "metadata": {
        "id": "nVnffTn5CfGq"
      }
    },
    {
      "cell_type": "markdown",
      "source": [
        "The following questions give you a chance to practice writing arithmetic expressions.\n",
        "\n",
        "* How many seconds are there in 42 minutes 42 seconds?\n",
        "* How many miles are there in 10 kilometers? Hint: there are 1.61 kilometers in a mile.\n",
        "* If you run a 10 kilometer race in 42 minutes 42 seconds, what is your average pace in seconds per mile?\n",
        "* What is your average pace in minutes and seconds per mile?\n",
        "* What is your average speed in miles per hour?\n"
      ],
      "metadata": {
        "id": "TDrRPRWTCkvD"
      }
    },
    {
      "cell_type": "code",
      "source": [
        "print(42 * 60 + 42, 'seconds')\n",
        "print(10 /1.61, 'miles')\n",
        "print((42 * 60 + 42) / (10 /1.61), 'seconds per mile')\n",
        "print(int(((42 * 60 + 42) / (10 /1.61)) / 60), 'minutes and', (42 * 60 + 42) / (10 /1.61) % 60,'seconds per mile')\n",
        "print(10 / 1.61 / ((42 * 60 + 42) / 3600), 'miles per hour')"
      ],
      "metadata": {
        "id": "vjLAYq07CkGy",
        "colab": {
          "base_uri": "https://localhost:8080/"
        },
        "outputId": "5ac32aba-d70d-4a37-f1cc-79d3eb583c46"
      },
      "execution_count": null,
      "outputs": [
        {
          "output_type": "stream",
          "name": "stdout",
          "text": [
            "2562 seconds\n",
            "6.211180124223602 miles\n",
            "412.482 seconds per mile\n",
            "6 minutes and 52.48200000000003 seconds per mile\n",
            "8.727653570337614 miles per hour\n"
          ]
        }
      ]
    },
    {
      "cell_type": "code",
      "source": [],
      "metadata": {
        "id": "y-PbBDJJkWAy"
      },
      "execution_count": null,
      "outputs": []
    },
    {
      "cell_type": "markdown",
      "source": [
        "## 5 - More Features"
      ],
      "metadata": {
        "id": "vrUw4M0lCzKd"
      }
    },
    {
      "cell_type": "markdown",
      "source": [
        "* We've seen that `n = 17 is` allowed. What about `17 = n`?\n",
        "How about `x = y = 1`?\n",
        "\n",
        "* In some languages every statement ends with a semi-colon (`;`). What happens if you put a semi-colon at the end of a Python statement?\n",
        "\n",
        "* What if you put a period at the end of a statement?\n",
        "\n",
        "* What happens if you spell the name of a module wrong and try to `import maath`?"
      ],
      "metadata": {
        "id": "QCs2wJVnC8xD"
      }
    },
    {
      "cell_type": "code",
      "source": [
        "# 17 = n gives SyntaxError\n",
        "# x = y = 1 no error\n",
        "# x = 15; no error\n",
        "# import maath can't find the module"
      ],
      "metadata": {
        "id": "Q-_pj6QuDJaF"
      },
      "execution_count": null,
      "outputs": []
    },
    {
      "cell_type": "markdown",
      "source": [
        "## 6 -  Practice using the Python interpreter as a calculator:"
      ],
      "metadata": {
        "id": "N6fEo-xUDJ_I"
      }
    },
    {
      "cell_type": "markdown",
      "source": [
        "**Part 1.**  The volume of a sphere with radius $r$ is $\\frac{4}{3} \\pi r^3$.\n",
        "\n",
        "* What is the volume of a sphere with radius 5? Start with a variable named `radius` and then assign the result to a variable named `volume`. Display the result. Add comments to indicate that `radius` is in centimeters and `volume` in cubic centimeters.\""
      ],
      "metadata": {
        "id": "Jt98tYpODtFS"
      }
    },
    {
      "cell_type": "code",
      "source": [
        "import math\n",
        "radius = 5 # radius is in centimeters\n",
        "volume = (4/3) * math.pi * radius**3 # the volume will be in cubic centimeters\n",
        "print(volume, 'cm^3')"
      ],
      "metadata": {
        "id": "8VHBiwvYDduC",
        "colab": {
          "base_uri": "https://localhost:8080/"
        },
        "outputId": "35b28749-2221-4c92-9df9-c73912e94f6a"
      },
      "execution_count": 39,
      "outputs": [
        {
          "output_type": "stream",
          "name": "stdout",
          "text": [
            "523.5987755982989 cm^3\n"
          ]
        }
      ]
    },
    {
      "cell_type": "markdown",
      "source": [
        "**Part 2.** A rule of trigonometry says that for any value of $x$, $(\\cos x)^2 + (\\sin x)^2 = 1$. Let's see if it's true for a specific value of $x$ like 42.\n",
        "\n",
        "* Create a variable named `x` with this value. Then use `math.cos` and `math.sin` to compute the sine and cosine of $x$, and the sum of their squared. The result should be close to 1. It might not be exactly 1 because floating-point arithmetic is not exact---it is only approximately correct."
      ],
      "metadata": {
        "id": "oxTE6ymsD3ox"
      }
    },
    {
      "cell_type": "code",
      "source": [
        "x = 42\n",
        "result = math.cos(x)**2 + math.sin(x)**2\n",
        "print(result)"
      ],
      "metadata": {
        "id": "ZuuuCzNpEFxO",
        "colab": {
          "base_uri": "https://localhost:8080/"
        },
        "outputId": "88a2e079-c95e-41b4-fe83-3c86585c824a"
      },
      "execution_count": null,
      "outputs": [
        {
          "output_type": "stream",
          "name": "stdout",
          "text": [
            "1.0\n"
          ]
        }
      ]
    },
    {
      "cell_type": "markdown",
      "source": [
        "**Part 3.** In addition to `pi`, the other variable defined in the `math` module is `e`, which represents the base of the natural logarithm, written in math notation as $e$. If you are not familiar with this value, ask a virtual assistant \"What is `math.e`?\\\" Now let's compute $e^2$ three ways:,\n",
        "\n",
        "* Use `math.e` and the exponentiation operator (`**`).\n",
        "\n",
        "* Use `math.pow` to raise `math.e` to the power `2`.\n",
        "\n",
        "* Use `math.exp`, which takes as an argument a value, $x$, and computes $e^x$.\n",
        "\n",
        "You might notice that the last result is slightly different from the other two. See if you can find out which is correct."
      ],
      "metadata": {
        "id": "LgFOmEHGEGT3"
      }
    },
    {
      "cell_type": "code",
      "source": [
        "print(math.e**2)\n",
        "print(math.pow(math.e,2))\n",
        "print(math.exp(2)) # this one is correct because exp is used specifically to calculate this"
      ],
      "metadata": {
        "id": "iA_bpCtXEXsN",
        "colab": {
          "base_uri": "https://localhost:8080/"
        },
        "outputId": "11f44437-e889-4be7-f1bc-d75d89a2a329"
      },
      "execution_count": null,
      "outputs": [
        {
          "output_type": "stream",
          "name": "stdout",
          "text": [
            "7.3890560989306495\n",
            "7.3890560989306495\n",
            "7.38905609893065\n"
          ]
        }
      ]
    },
    {
      "cell_type": "code",
      "source": [],
      "metadata": {
        "id": "NqQs2J5cg2EJ"
      },
      "execution_count": null,
      "outputs": []
    },
    {
      "cell_type": "markdown",
      "source": [
        "## 7 - GitHub"
      ],
      "metadata": {
        "id": "5qXjiBWGFVve"
      }
    },
    {
      "cell_type": "markdown",
      "metadata": {
        "id": "33ee3af5"
      },
      "source": [
        "\n",
        "https://github.com/Wasian98/MATH120-Intro/blob/main/MATH120_HW01.ipynb\n"
      ]
    }
  ],
  "metadata": {
    "kernelspec": {
      "display_name": "Python 3 (ipykernel)",
      "language": "python",
      "name": "python3"
    },
    "language_info": {
      "codemirror_mode": {
        "name": "ipython",
        "version": 3
      },
      "file_extension": ".py",
      "mimetype": "text/x-python",
      "name": "python",
      "nbconvert_exporter": "python",
      "pygments_lexer": "ipython3",
      "version": "3.9.7"
    },
    "colab": {
      "provenance": [],
      "include_colab_link": true
    }
  },
  "nbformat": 4,
  "nbformat_minor": 0
}